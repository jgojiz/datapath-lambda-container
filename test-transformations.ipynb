{
 "cells": [
  {
   "cell_type": "code",
   "execution_count": 17,
   "metadata": {},
   "outputs": [],
   "source": [
    "import pandas as pd"
   ]
  },
  {
   "cell_type": "code",
   "execution_count": 18,
   "metadata": {},
   "outputs": [
    {
     "name": "stdout",
     "output_type": "stream",
     "text": [
      "<class 'pandas.core.frame.DataFrame'>\n",
      "RangeIndex: 14446 entries, 0 to 14445\n",
      "Data columns (total 15 columns):\n",
      " #   Column                 Non-Null Count  Dtype  \n",
      "---  ------                 --------------  -----  \n",
      " 0   trans_date_trans_time  14446 non-null  object \n",
      " 1   merchant               14446 non-null  object \n",
      " 2   category               14446 non-null  object \n",
      " 3   amt                    14446 non-null  float64\n",
      " 4   city                   14446 non-null  object \n",
      " 5   state                  14446 non-null  object \n",
      " 6   lat                    14446 non-null  float64\n",
      " 7   long                   14446 non-null  float64\n",
      " 8   city_pop               14446 non-null  int64  \n",
      " 9   job                    14446 non-null  object \n",
      " 10  dob                    14446 non-null  object \n",
      " 11  trans_num              14446 non-null  object \n",
      " 12  merch_lat              14446 non-null  float64\n",
      " 13  merch_long             14446 non-null  float64\n",
      " 14  is_fraud               14446 non-null  object \n",
      "dtypes: float64(5), int64(1), object(9)\n",
      "memory usage: 1.7+ MB\n"
     ]
    }
   ],
   "source": [
    "fraud = pd.read_csv('fraud_data.csv')\n",
    "fraud.info()"
   ]
  },
  {
   "cell_type": "code",
   "execution_count": 19,
   "metadata": {},
   "outputs": [
    {
     "data": {
      "text/html": [
       "<div>\n",
       "<style scoped>\n",
       "    .dataframe tbody tr th:only-of-type {\n",
       "        vertical-align: middle;\n",
       "    }\n",
       "\n",
       "    .dataframe tbody tr th {\n",
       "        vertical-align: top;\n",
       "    }\n",
       "\n",
       "    .dataframe thead th {\n",
       "        text-align: right;\n",
       "    }\n",
       "</style>\n",
       "<table border=\"1\" class=\"dataframe\">\n",
       "  <thead>\n",
       "    <tr style=\"text-align: right;\">\n",
       "      <th></th>\n",
       "      <th>trans_date_trans_time</th>\n",
       "      <th>merchant</th>\n",
       "      <th>category</th>\n",
       "      <th>amt</th>\n",
       "      <th>city</th>\n",
       "      <th>state</th>\n",
       "      <th>lat</th>\n",
       "      <th>long</th>\n",
       "      <th>city_pop</th>\n",
       "      <th>job</th>\n",
       "      <th>dob</th>\n",
       "      <th>trans_num</th>\n",
       "      <th>merch_lat</th>\n",
       "      <th>merch_long</th>\n",
       "      <th>is_fraud</th>\n",
       "    </tr>\n",
       "  </thead>\n",
       "  <tbody>\n",
       "    <tr>\n",
       "      <th>0</th>\n",
       "      <td>04-01-2019 00:58</td>\n",
       "      <td>\"Stokes, Christiansen and Sipes\"</td>\n",
       "      <td>grocery_net</td>\n",
       "      <td>14.37</td>\n",
       "      <td>Wales</td>\n",
       "      <td>AK</td>\n",
       "      <td>64.7556</td>\n",
       "      <td>-165.6723</td>\n",
       "      <td>145</td>\n",
       "      <td>\"Administrator, education\"</td>\n",
       "      <td>09-11-1939</td>\n",
       "      <td>a3806e984cec6ac0096d8184c64ad3a1</td>\n",
       "      <td>65.654142</td>\n",
       "      <td>-164.722603</td>\n",
       "      <td>1</td>\n",
       "    </tr>\n",
       "    <tr>\n",
       "      <th>1</th>\n",
       "      <td>04-01-2019 15:06</td>\n",
       "      <td>Predovic Inc</td>\n",
       "      <td>shopping_net</td>\n",
       "      <td>966.11</td>\n",
       "      <td>Wales</td>\n",
       "      <td>AK</td>\n",
       "      <td>64.7556</td>\n",
       "      <td>-165.6723</td>\n",
       "      <td>145</td>\n",
       "      <td>\"Administrator, education\"</td>\n",
       "      <td>09-11-1939</td>\n",
       "      <td>a59185fe1b9ccf21323f581d7477573f</td>\n",
       "      <td>65.468863</td>\n",
       "      <td>-165.473127</td>\n",
       "      <td>1</td>\n",
       "    </tr>\n",
       "    <tr>\n",
       "      <th>2</th>\n",
       "      <td>04-01-2019 22:37</td>\n",
       "      <td>Wisozk and Sons</td>\n",
       "      <td>misc_pos</td>\n",
       "      <td>49.61</td>\n",
       "      <td>Wales</td>\n",
       "      <td>AK</td>\n",
       "      <td>64.7556</td>\n",
       "      <td>-165.6723</td>\n",
       "      <td>145</td>\n",
       "      <td>\"Administrator, education\"</td>\n",
       "      <td>09-11-1939</td>\n",
       "      <td>86ba3a888b42cd3925881fa34177b4e0</td>\n",
       "      <td>65.347667</td>\n",
       "      <td>-165.914542</td>\n",
       "      <td>1</td>\n",
       "    </tr>\n",
       "    <tr>\n",
       "      <th>3</th>\n",
       "      <td>04-01-2019 23:06</td>\n",
       "      <td>Murray-Smitham</td>\n",
       "      <td>grocery_pos</td>\n",
       "      <td>295.26</td>\n",
       "      <td>Wales</td>\n",
       "      <td>AK</td>\n",
       "      <td>64.7556</td>\n",
       "      <td>-165.6723</td>\n",
       "      <td>145</td>\n",
       "      <td>\"Administrator, education\"</td>\n",
       "      <td>09-11-1939</td>\n",
       "      <td>3a068fe1d856f0ecedbed33e4b5f4496</td>\n",
       "      <td>64.445035</td>\n",
       "      <td>-166.080207</td>\n",
       "      <td>1</td>\n",
       "    </tr>\n",
       "    <tr>\n",
       "      <th>4</th>\n",
       "      <td>04-01-2019 23:59</td>\n",
       "      <td>Friesen Lt</td>\n",
       "      <td>health_fitness</td>\n",
       "      <td>18.17</td>\n",
       "      <td>Wales</td>\n",
       "      <td>AK</td>\n",
       "      <td>64.7556</td>\n",
       "      <td>-165.6723</td>\n",
       "      <td>145</td>\n",
       "      <td>\"Administrator, education\"</td>\n",
       "      <td>09-11-1939</td>\n",
       "      <td>891cdd1191028759dc20dc224347a0ff</td>\n",
       "      <td>65.447094</td>\n",
       "      <td>-165.446843</td>\n",
       "      <td>1</td>\n",
       "    </tr>\n",
       "  </tbody>\n",
       "</table>\n",
       "</div>"
      ],
      "text/plain": [
       "  trans_date_trans_time                          merchant        category  \\\n",
       "0      04-01-2019 00:58  \"Stokes, Christiansen and Sipes\"     grocery_net   \n",
       "1      04-01-2019 15:06                      Predovic Inc    shopping_net   \n",
       "2      04-01-2019 22:37                   Wisozk and Sons        misc_pos   \n",
       "3      04-01-2019 23:06                    Murray-Smitham     grocery_pos   \n",
       "4      04-01-2019 23:59                        Friesen Lt  health_fitness   \n",
       "\n",
       "      amt   city state      lat      long  city_pop  \\\n",
       "0   14.37  Wales    AK  64.7556 -165.6723       145   \n",
       "1  966.11  Wales    AK  64.7556 -165.6723       145   \n",
       "2   49.61  Wales    AK  64.7556 -165.6723       145   \n",
       "3  295.26  Wales    AK  64.7556 -165.6723       145   \n",
       "4   18.17  Wales    AK  64.7556 -165.6723       145   \n",
       "\n",
       "                          job         dob                         trans_num  \\\n",
       "0  \"Administrator, education\"  09-11-1939  a3806e984cec6ac0096d8184c64ad3a1   \n",
       "1  \"Administrator, education\"  09-11-1939  a59185fe1b9ccf21323f581d7477573f   \n",
       "2  \"Administrator, education\"  09-11-1939  86ba3a888b42cd3925881fa34177b4e0   \n",
       "3  \"Administrator, education\"  09-11-1939  3a068fe1d856f0ecedbed33e4b5f4496   \n",
       "4  \"Administrator, education\"  09-11-1939  891cdd1191028759dc20dc224347a0ff   \n",
       "\n",
       "   merch_lat  merch_long is_fraud  \n",
       "0  65.654142 -164.722603        1  \n",
       "1  65.468863 -165.473127        1  \n",
       "2  65.347667 -165.914542        1  \n",
       "3  64.445035 -166.080207        1  \n",
       "4  65.447094 -165.446843        1  "
      ]
     },
     "execution_count": 19,
     "metadata": {},
     "output_type": "execute_result"
    }
   ],
   "source": [
    "fraud.head(5)"
   ]
  },
  {
   "cell_type": "markdown",
   "metadata": {},
   "source": [
    "### Pick columns to use"
   ]
  },
  {
   "cell_type": "code",
   "execution_count": 20,
   "metadata": {},
   "outputs": [
    {
     "data": {
      "text/plain": [
       "Index(['trans_date_trans_time', 'merchant', 'category', 'amt', 'city', 'state',\n",
       "       'city_pop', 'job', 'dob', 'merch_lat', 'merch_long', 'is_fraud'],\n",
       "      dtype='object')"
      ]
     },
     "execution_count": 20,
     "metadata": {},
     "output_type": "execute_result"
    }
   ],
   "source": [
    "fraud = fraud.drop(columns=['trans_num', 'lat', 'long'])\n",
    "fraud.columns"
   ]
  },
  {
   "cell_type": "markdown",
   "metadata": {},
   "source": [
    "### Rename columns"
   ]
  },
  {
   "cell_type": "code",
   "execution_count": 21,
   "metadata": {},
   "outputs": [
    {
     "data": {
      "text/plain": [
       "Index(['datetime', 'merchant', 'category', 'transaction_amount', 'city',\n",
       "       'state', 'city_population', 'job', 'birth_date', 'merch_lat',\n",
       "       'merch_long', 'is_fraud'],\n",
       "      dtype='object')"
      ]
     },
     "execution_count": 21,
     "metadata": {},
     "output_type": "execute_result"
    }
   ],
   "source": [
    "fraud = fraud.rename(columns={'trans_date_trans_time': 'datetime', 'amt': 'transaction_amount', \n",
    "                              'dob': 'birth_date', 'city_pop': 'city_population'})\n",
    "fraud.columns"
   ]
  },
  {
   "cell_type": "markdown",
   "metadata": {},
   "source": [
    "### Datetime format"
   ]
  },
  {
   "cell_type": "code",
   "execution_count": 24,
   "metadata": {},
   "outputs": [],
   "source": [
    "datetime_format = '%d-%m-%Y %H:%M'\n",
    "fraud['datetime'] = pd.to_datetime(fraud['datetime'], format=datetime_format)"
   ]
  },
  {
   "cell_type": "code",
   "execution_count": 26,
   "metadata": {},
   "outputs": [],
   "source": [
    "fraud['date'] = fraud['datetime'].dt.strftime('%d/%m/%Y')\n",
    "fraud['time_24h'] = fraud['datetime'].dt.strftime('%H:%M')"
   ]
  },
  {
   "cell_type": "code",
   "execution_count": 27,
   "metadata": {},
   "outputs": [
    {
     "name": "stdout",
     "output_type": "stream",
     "text": [
      "<class 'pandas.core.frame.DataFrame'>\n",
      "RangeIndex: 14446 entries, 0 to 14445\n",
      "Data columns (total 14 columns):\n",
      " #   Column              Non-Null Count  Dtype         \n",
      "---  ------              --------------  -----         \n",
      " 0   datetime            14446 non-null  datetime64[ns]\n",
      " 1   merchant            14446 non-null  object        \n",
      " 2   category            14446 non-null  object        \n",
      " 3   transaction_amount  14446 non-null  float64       \n",
      " 4   city                14446 non-null  object        \n",
      " 5   state               14446 non-null  object        \n",
      " 6   city_population     14446 non-null  int64         \n",
      " 7   job                 14446 non-null  object        \n",
      " 8   birth_date          14446 non-null  object        \n",
      " 9   merch_lat           14446 non-null  float64       \n",
      " 10  merch_long          14446 non-null  float64       \n",
      " 11  is_fraud            14446 non-null  object        \n",
      " 12  date                14446 non-null  object        \n",
      " 13  time_24h            14446 non-null  object        \n",
      "dtypes: datetime64[ns](1), float64(3), int64(1), object(9)\n",
      "memory usage: 1.5+ MB\n"
     ]
    }
   ],
   "source": [
    "fraud.info()"
   ]
  },
  {
   "cell_type": "code",
   "execution_count": 29,
   "metadata": {},
   "outputs": [
    {
     "data": {
      "text/plain": [
       "state\n",
       "CA    3375\n",
       "MO    2329\n",
       "NE    1460\n",
       "OR    1211\n",
       "WA    1150\n",
       "WY    1100\n",
       "NM    1003\n",
       "CO     856\n",
       "AZ     673\n",
       "UT     597\n",
       "ID     347\n",
       "AK     173\n",
       "HI     172\n",
       "Name: count, dtype: int64"
      ]
     },
     "execution_count": 29,
     "metadata": {},
     "output_type": "execute_result"
    }
   ],
   "source": [
    "fraud['state'].value_counts()"
   ]
  }
 ],
 "metadata": {
  "kernelspec": {
   "display_name": "Python 3",
   "language": "python",
   "name": "python3"
  },
  "language_info": {
   "codemirror_mode": {
    "name": "ipython",
    "version": 3
   },
   "file_extension": ".py",
   "mimetype": "text/x-python",
   "name": "python",
   "nbconvert_exporter": "python",
   "pygments_lexer": "ipython3",
   "version": "3.12.5"
  }
 },
 "nbformat": 4,
 "nbformat_minor": 2
}
